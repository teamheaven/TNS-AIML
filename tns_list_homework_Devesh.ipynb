{
 "cells": [
  {
   "cell_type": "code",
   "execution_count": 10,
   "id": "ee9f3008",
   "metadata": {},
   "outputs": [
    {
     "name": "stdout",
     "output_type": "stream",
     "text": [
      "['jeep', 'mahindra', 'jaguar', 'bmw', 'ford']\n"
     ]
    }
   ],
   "source": [
    "#Remove duplicates from a list using set\n",
    "vehicle = [\"jaguar\",\"bmw\",\"jeep\",\"ford\",\"mahindra\", \"bmw\"]\n",
    "gaadi = set(vehicle)\n",
    "gaadi_L = list(gaadi)\n",
    "print(gaadi_L)"
   ]
  },
  {
   "cell_type": "code",
   "execution_count": 12,
   "id": "b2e098fc",
   "metadata": {},
   "outputs": [
    {
     "name": "stdout",
     "output_type": "stream",
     "text": [
      "{'jeep', 'bmw'}\n"
     ]
    }
   ],
   "source": [
    "#check if two sets have common element\n",
    "vehicle = {\"jaguar\",\"bmw\",\"jeep\",\"ford\",\"mahindra\"}\n",
    "cars = {\"Tata\",\"Mindsor\",\"jeep\",\"bmw\",\"mercedes\"}\n",
    "matching_brand_stock = vehicle.intersection(cars)\n",
    "print(matching_brand_stock)"
   ]
  },
  {
   "cell_type": "code",
   "execution_count": 15,
   "id": "7f098469",
   "metadata": {},
   "outputs": [
    {
     "name": "stdout",
     "output_type": "stream",
     "text": [
      "{'ford', 'mercedes', 'mahindra', 'jaguar', 'Mindsor', 'Tata'}\n"
     ]
    }
   ],
   "source": [
    "#find elements present in only one of the two sets\n",
    "vehicle = {\"jaguar\",\"bmw\",\"jeep\",\"ford\",\"mahindra\"}\n",
    "cars = {\"Tata\",\"Mindsor\",\"jeep\",\"bmw\",\"mercedes\"}\n",
    "matching_brand_stock = vehicle.symmetric_difference(cars)\n",
    "print(matching_brand_stock)"
   ]
  },
  {
   "cell_type": "code",
   "execution_count": 20,
   "id": "80e91ddf",
   "metadata": {},
   "outputs": [
    {
     "name": "stdout",
     "output_type": "stream",
     "text": [
      "{1: 1, 2: 2, 3: 3, 4: 1}\n"
     ]
    }
   ],
   "source": [
    "#Given a list of numbers, count how many times each no. occurs using a dictionary, eg - input [1,2,2,3,3,3,4] output [1: 1,2:2,3:3,4:1]\n",
    "numbers1 = [1,2,2,3,3,3,4]\n",
    "count = {}\n",
    "\n",
    "for num in numbers1:\n",
    "    if num in count:\n",
    "        count[num] += 1\n",
    "    else:\n",
    "        count[num] = 1\n",
    "print(count)\n"
   ]
  },
  {
   "cell_type": "code",
   "execution_count": 27,
   "id": "7177a022",
   "metadata": {},
   "outputs": [
    {
     "name": "stdout",
     "output_type": "stream",
     "text": [
      "{20}\n"
     ]
    }
   ],
   "source": [
    "#find the key with maximum value\n",
    "numbers_2 = {\n",
    "    \"a\":12,\n",
    "    \"b\": 13,\n",
    "    \"c\": 14,\n",
    "    \"d\": 20\n",
    "}\n",
    "ans = max(numbers_2, key = numbers_2.get)\n",
    "print({numbers_2[ans]})"
   ]
  },
  {
   "cell_type": "code",
   "execution_count": null,
   "id": "5c27a273",
   "metadata": {},
   "outputs": [],
   "source": []
  }
 ],
 "metadata": {
  "kernelspec": {
   "display_name": "Python 3",
   "language": "python",
   "name": "python3"
  },
  "language_info": {
   "codemirror_mode": {
    "name": "ipython",
    "version": 3
   },
   "file_extension": ".py",
   "mimetype": "text/x-python",
   "name": "python",
   "nbconvert_exporter": "python",
   "pygments_lexer": "ipython3",
   "version": "3.13.5"
  }
 },
 "nbformat": 4,
 "nbformat_minor": 5
}
