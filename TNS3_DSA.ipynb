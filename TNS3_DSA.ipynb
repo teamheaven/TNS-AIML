{
  "nbformat": 4,
  "nbformat_minor": 0,
  "metadata": {
    "colab": {
      "provenance": []
    },
    "kernelspec": {
      "name": "python3",
      "display_name": "Python 3"
    },
    "language_info": {
      "name": "python"
    }
  },
  "cells": [
    {
      "cell_type": "markdown",
      "source": [
        "Python Lists - DSA theory\n",
        "\n",
        "Characteristics:\n",
        "* Indexed -\n",
        "* Mutable - once created element can be added, removed or changed.\n",
        "* Allows duplication - you can modify, add, or move the elements.\n",
        "* Hetrogenous - can store element of different size.\n",
        "* Dynamic Size - can be shrink or grow during execution.\n",
        "\n",
        "Common Operation in list -\n",
        "1. append()\n",
        "2. extend()-\n",
        "3. insert()\n",
        "4. revert()\n",
        "5. pop()\n",
        "6. clear()\n",
        "7. index()\n",
        "8. count()\n",
        "9. reverse()\n",
        "10. sort()\n",
        "11. copy()\n",
        "12. len()\n",
        "13. sum()\n",
        "14. max()\n"
      ],
      "metadata": {
        "id": "MbBiB5A-qE_z"
      }
    },
    {
      "cell_type": "code",
      "execution_count": null,
      "metadata": {
        "colab": {
          "base_uri": "https://localhost:8080/"
        },
        "id": "qq5ZcyHJnadD",
        "outputId": "795961e4-e0bc-4291-8d7c-38aea541582a"
      },
      "outputs": [
        {
          "output_type": "stream",
          "name": "stdout",
          "text": [
            "The stock present in showroom are: ['Mini Cooper', 'Endeavour', 'Harrier', 'Safari']\n"
          ]
        }
      ],
      "source": [
        "#creating a list\n",
        "car = [\"Mini Cooper\", \"Endeavour\",\"Harrier\",\"Safari\"]\n",
        "print(\"The stock present in showroom are:\", car)"
      ]
    },
    {
      "cell_type": "markdown",
      "source": [],
      "metadata": {
        "id": "mLRKBhGVqDW8"
      }
    },
    {
      "cell_type": "code",
      "source": [
        "#Append\n",
        "cars = [\"Mini Cooper\", \"Endeavour\",\"Harrier\",\"Safari\"]\n",
        "cars.append(\"Defender\")\n",
        "cars.sort()\n",
        "print(\"The stock present in showroom are:\", cars)"
      ],
      "metadata": {
        "colab": {
          "base_uri": "https://localhost:8080/"
        },
        "id": "ndEck7JZtPt7",
        "outputId": "53721f81-bbf4-4995-b66d-a7ac5168a1a3"
      },
      "execution_count": null,
      "outputs": [
        {
          "output_type": "stream",
          "name": "stdout",
          "text": [
            "The stock present in showroom are: ['Defender', 'Endeavour', 'Harrier', 'Mini Cooper', 'Safari']\n"
          ]
        }
      ]
    },
    {
      "cell_type": "code",
      "source": [
        "#extend\n",
        "vehicle = [\"Mini Cooper\", \"Endeavour\",\"Harrier\",\"Safari\"]\n",
        "bikes = [\"Triumph\",\"GT60\",\"Pulsar\",\"Apache\"]\n",
        "vehicle.extend(bikes)\n",
        "vehicle.sort()\n",
        "print(\"The stock present in showroom are:\", vehicle)"
      ],
      "metadata": {
        "colab": {
          "base_uri": "https://localhost:8080/"
        },
        "id": "aOKOlOR5tul5",
        "outputId": "05a1a55c-aba0-43c6-9a6f-6e52b824971b"
      },
      "execution_count": null,
      "outputs": [
        {
          "output_type": "stream",
          "name": "stdout",
          "text": [
            "The stock present in showroom are: ['Apache', 'Endeavour', 'GT60', 'Harrier', 'Mini Cooper', 'Pulsar', 'Safari', 'Triumph']\n"
          ]
        }
      ]
    },
    {
      "cell_type": "code",
      "source": [
        "#insert\n",
        "vehicle = [\"Mini Cooper\", \"Endeavour\",\"Harrier\",\"Safari\"]\n",
        "bikes = [\"Triumph\",\"GT60\",\"Pulsar\",\"Apache\"]\n",
        "vehicle.insert(2,\"GT60\")\n",
        "vehicle.insert(3,\"Pulsar\")\n",
        "print(\"The stock present in showroom are:\", vehicle)"
      ],
      "metadata": {
        "colab": {
          "base_uri": "https://localhost:8080/"
        },
        "id": "xIjMisqlu34V",
        "outputId": "8e28ed06-5bc7-4da9-892d-aee1d0086acf"
      },
      "execution_count": null,
      "outputs": [
        {
          "output_type": "stream",
          "name": "stdout",
          "text": [
            "The stock present in showroom are: ['Mini Cooper', 'Endeavour', 'GT60', 'Pulsar', 'Harrier', 'Safari']\n"
          ]
        }
      ]
    },
    {
      "cell_type": "code",
      "source": [
        "#remove - remove the occurences of the variable\n",
        "vehicle = [\"Mini Cooper\", \"Endeavour\",\"Harrier\",\"Safari\"]\n",
        "vehicle.remove(\"Harrier\")\n",
        "print(\"The stock present in showroom are:\", vehicle)"
      ],
      "metadata": {
        "colab": {
          "base_uri": "https://localhost:8080/"
        },
        "id": "-0Lpux2WveLv",
        "outputId": "9c4afa8f-ad9c-48ae-fc3f-d6cb27ea0597"
      },
      "execution_count": null,
      "outputs": [
        {
          "output_type": "stream",
          "name": "stdout",
          "text": [
            "The stock present in showroom are: ['Mini Cooper', 'Endeavour', 'Safari']\n"
          ]
        }
      ]
    },
    {
      "cell_type": "code",
      "source": [
        "#pop - remove the varibale from th index\n",
        "vehicle = [\"Mini Cooper\", \"Endeavour\",\"Harrier\",\"Safari\"]\n",
        "sale_vehicle = vehicle.pop(2)\n",
        "print(\"the current sold vehicle:\",sale_vehicle)\n",
        "print(\"The stock present in showroom are:\", vehicle)"
      ],
      "metadata": {
        "colab": {
          "base_uri": "https://localhost:8080/"
        },
        "id": "xqeW9D5awKay",
        "outputId": "171fc2aa-ae2c-477e-f91e-feec8697cfa4"
      },
      "execution_count": null,
      "outputs": [
        {
          "output_type": "stream",
          "name": "stdout",
          "text": [
            "the current saled vehicle: Harrier\n",
            "The stock present in showroom are: ['Mini Cooper', 'Endeavour', 'Safari']\n"
          ]
        }
      ]
    },
    {
      "cell_type": "code",
      "source": [
        "#clear - removes all element from the list\n",
        "vehicle = [\"Mini Cooper\", \"Endeavour\",\"Harrier\",\"Safari\"]\n",
        "vehicle.clear()\n",
        "print(\"The stock present in showroom are:\", vehicle)"
      ],
      "metadata": {
        "colab": {
          "base_uri": "https://localhost:8080/"
        },
        "id": "fmKbVnRVxVp7",
        "outputId": "b9124517-0500-498a-8edf-f7ee2b1b7a81"
      },
      "execution_count": null,
      "outputs": [
        {
          "output_type": "stream",
          "name": "stdout",
          "text": [
            "The stock present in showroom are: []\n"
          ]
        }
      ]
    },
    {
      "cell_type": "code",
      "source": [
        "#index\n",
        "vehicle = [\"Mini Cooper\", \"Endeavour\",\"Harrier\",\"Safari\"]\n",
        "sale = vehicle.index(\"Harrier\")\n",
        "print(\"the index value of Vehicle Harrier is:\",sale)"
      ],
      "metadata": {
        "colab": {
          "base_uri": "https://localhost:8080/"
        },
        "id": "WlxQtxLyybDo",
        "outputId": "4bd47e74-46d8-4df8-b5e4-f514b7226bc6"
      },
      "execution_count": null,
      "outputs": [
        {
          "output_type": "stream",
          "name": "stdout",
          "text": [
            "the index value of Vehicle Harrier is: 2\n"
          ]
        }
      ]
    },
    {
      "cell_type": "code",
      "source": [
        "#count\n",
        "vehicle = [\"Mini Cooper\", \"Endeavour\",\"Harrier\",\"Safari\",\"Harrier\",\"Harrier\"]\n",
        "sale = vehicle.count(\"Harrier\")\n",
        "print(\"the index value of Vehicle Harrier is:\",sale)"
      ],
      "metadata": {
        "colab": {
          "base_uri": "https://localhost:8080/"
        },
        "id": "BomifGq9ywbt",
        "outputId": "3b53565f-111f-4b1f-acdc-b12f922307d4"
      },
      "execution_count": null,
      "outputs": [
        {
          "output_type": "stream",
          "name": "stdout",
          "text": [
            "the index value of Vehicle Harrier is: 3\n"
          ]
        }
      ]
    },
    {
      "cell_type": "code",
      "source": [
        "#reverse\n",
        "vehicle = [\"Mini Cooper\", \"Endeavour\",\"Harrier\",\"Safari\"]\n",
        "vehicle_sold = vehicle[0:3]\n",
        "count_sold = vehicle_sold[::-1]\n",
        "vehicle = count_sold\n",
        "print(vehicle)\n",
        "print(\"The stock present in showroom are:\", vehicle)"
      ],
      "metadata": {
        "colab": {
          "base_uri": "https://localhost:8080/"
        },
        "id": "zRbKc2whzYfB",
        "outputId": "e23ed455-209c-4654-8e51-53e52b7972ac"
      },
      "execution_count": null,
      "outputs": [
        {
          "output_type": "stream",
          "name": "stdout",
          "text": [
            "['Harrier', 'Endeavour', 'Mini Cooper']\n",
            "The stock present in showroom are: ['Harrier', 'Endeavour', 'Mini Cooper']\n"
          ]
        }
      ]
    },
    {
      "cell_type": "code",
      "source": [
        "#copy\n",
        "vehicle = [\"Mini Cooper\", \"Endeavour\",\"Harrier\",\"Safari\"]\n",
        "vehicle_sold = vehicle[0:3]\n",
        "count_sold = vehicle_sold.copy()\n",
        "print(count_sold)"
      ],
      "metadata": {
        "colab": {
          "base_uri": "https://localhost:8080/"
        },
        "id": "I-WSkT74zkQs",
        "outputId": "ac004f24-af3a-4640-9e14-02ae640d39ee"
      },
      "execution_count": null,
      "outputs": [
        {
          "output_type": "stream",
          "name": "stdout",
          "text": [
            "['Mindsor']\n"
          ]
        }
      ]
    },
    {
      "cell_type": "code",
      "source": [
        "#len\n",
        "vehicle = [\"Mini Cooper\", \"Endeavour\",\"Harrier\",\"Safari\"]\n",
        "print(len(vehicle))"
      ],
      "metadata": {
        "colab": {
          "base_uri": "https://localhost:8080/"
        },
        "id": "AD2clPGH17Vv",
        "outputId": "3935b94e-af5b-47bc-d629-f920e9cfdf5f"
      },
      "execution_count": null,
      "outputs": [
        {
          "output_type": "stream",
          "name": "stdout",
          "text": [
            "4\n"
          ]
        }
      ]
    },
    {
      "cell_type": "code",
      "source": [
        "#sum\n",
        "vehicle_qty = [10,20,30,40,50]\n",
        "print(\"The total count of each vehicle stored is:\",sum(vehicle_qty))"
      ],
      "metadata": {
        "colab": {
          "base_uri": "https://localhost:8080/"
        },
        "id": "OUjz9zuk2FqY",
        "outputId": "a0c22a4c-726f-4d58-bf73-6d401edd5769"
      },
      "execution_count": null,
      "outputs": [
        {
          "output_type": "stream",
          "name": "stdout",
          "text": [
            "The total count of each vehicle stored is: 150\n"
          ]
        }
      ]
    },
    {
      "cell_type": "code",
      "source": [
        "#print middle element from the list\n",
        "vehicle = [\"Mini Cooper\", \"Endeavour\",\"Mindsor\",\"Harrier\",\"Safari\"]\n",
        "vehicle_sold = vehicle[2:3]\n",
        "print(vehicle_sold)"
      ],
      "metadata": {
        "colab": {
          "base_uri": "https://localhost:8080/"
        },
        "id": "tzOP-qLB2JaH",
        "outputId": "09d838d3-e534-4c5a-9338-99184c2d08f7"
      },
      "execution_count": null,
      "outputs": [
        {
          "output_type": "stream",
          "name": "stdout",
          "text": [
            "['Mindsor']\n"
          ]
        }
      ]
    },
    {
      "cell_type": "code",
      "source": [
        "#min\n",
        "vehicle_qty = [10,20,30,40,50]\n",
        "print(\"The total count of each vehicle stored is:\",min(vehicle_qty))"
      ],
      "metadata": {
        "colab": {
          "base_uri": "https://localhost:8080/"
        },
        "id": "UuG0Ts8Q3C1-",
        "outputId": "3c25f991-7329-425f-eaa3-be7903a33f95"
      },
      "execution_count": null,
      "outputs": [
        {
          "output_type": "stream",
          "name": "stdout",
          "text": [
            "The total count of each vehicle stored is: 10\n"
          ]
        }
      ]
    },
    {
      "cell_type": "code",
      "source": [
        "#max\n",
        "vehicle_qty = [10,20,30,40,50]\n",
        "print(\"The total count of each vehicle stored is:\",max(vehicle_qty))"
      ],
      "metadata": {
        "colab": {
          "base_uri": "https://localhost:8080/"
        },
        "id": "pxwPS7de3QCp",
        "outputId": "b605d0a5-46e0-4c69-d789-8593f64390ac"
      },
      "execution_count": null,
      "outputs": [
        {
          "output_type": "stream",
          "name": "stdout",
          "text": [
            "The total count of each vehicle stored is: 50\n"
          ]
        }
      ]
    },
    {
      "cell_type": "code",
      "source": [
        "#flatten a tuple of tuples\n",
        "numbers = ((1,2,3),(4,5,6),(7,8,9))\n",
        "print(numbers)\n",
        "print(sum(numbers,()))"
      ],
      "metadata": {
        "id": "KIr3yu5s3SbK",
        "colab": {
          "base_uri": "https://localhost:8080/"
        },
        "outputId": "503e7057-9bd8-48d3-9508-2e83ca9c41fb"
      },
      "execution_count": null,
      "outputs": [
        {
          "output_type": "stream",
          "name": "stdout",
          "text": [
            "((1, 2, 3), (4, 5, 6), (7, 8, 9))\n",
            "(1, 2, 3, 4, 5, 6, 7, 8, 9)\n"
          ]
        }
      ]
    },
    {
      "cell_type": "code",
      "source": [
        "#flatten a tuple of tuples\n",
        "numbers = ((1,2,3),(4,5,6),(7,8,9))\n",
        "output = []\n",
        "for t in numbers:\n",
        "  for n in t:\n",
        "    output.append(n)\n",
        "output = tuple(output)\n",
        "print(output)"
      ],
      "metadata": {
        "colab": {
          "base_uri": "https://localhost:8080/"
        },
        "id": "9hmm_FA1_Q7G",
        "outputId": "733d3fc2-f04f-4bfb-9ea7-eb440cad2689"
      },
      "execution_count": null,
      "outputs": [
        {
          "output_type": "stream",
          "name": "stdout",
          "text": [
            "(1, 2, 3, 4, 5, 6, 7, 8, 9)\n"
          ]
        }
      ]
    },
    {
      "cell_type": "code",
      "source": [],
      "metadata": {
        "id": "iR5UZwyA_wNW"
      },
      "execution_count": null,
      "outputs": []
    }
  ]
}