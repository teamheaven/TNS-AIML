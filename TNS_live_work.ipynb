{
  "nbformat": 4,
  "nbformat_minor": 0,
  "metadata": {
    "colab": {
      "provenance": []
    },
    "kernelspec": {
      "name": "python3",
      "display_name": "Python 3"
    },
    "language_info": {
      "name": "python"
    }
  },
  "cells": [
    {
      "cell_type": "code",
      "execution_count": null,
      "metadata": {
        "colab": {
          "base_uri": "https://localhost:8080/"
        },
        "id": "quxLr4zi3frk",
        "outputId": "2e080ed8-76c8-41e2-a602-97d27583a63a"
      },
      "outputs": [
        {
          "output_type": "stream",
          "name": "stdout",
          "text": [
            "[10, 20, 30, 40, 50, 60, 70, 100]\n"
          ]
        }
      ],
      "source": [
        "#Append the number 100 in the list\n",
        "number = [10,20,30,40,50,60,70]\n",
        "number.append(100)\n",
        "print(number)"
      ]
    },
    {
      "cell_type": "code",
      "source": [
        "#insert the number 50 at the 3rd position\n",
        "number = [10,20,30,40,60,70]\n",
        "number.insert(2,50)\n",
        "print(number)"
      ],
      "metadata": {
        "colab": {
          "base_uri": "https://localhost:8080/"
        },
        "id": "seuMsoTR4QW5",
        "outputId": "ae37ace3-2dcd-442e-9db9-4c79694327f6"
      },
      "execution_count": null,
      "outputs": [
        {
          "output_type": "stream",
          "name": "stdout",
          "text": [
            "[10, 20, 50, 30, 40, 60, 70]\n"
          ]
        }
      ]
    },
    {
      "cell_type": "code",
      "source": [
        "#remove the first occurence of the number 20\n",
        "number = [10,20,30,40,50,60,70]\n",
        "number.remove(20)\n",
        "print(number)"
      ],
      "metadata": {
        "colab": {
          "base_uri": "https://localhost:8080/"
        },
        "id": "YV-C28Vl4hmV",
        "outputId": "407bf320-76d4-4d59-cb9f-f30592d32c92"
      },
      "execution_count": null,
      "outputs": [
        {
          "output_type": "stream",
          "name": "stdout",
          "text": [
            "[10, 30, 40, 50, 60, 70]\n"
          ]
        }
      ]
    },
    {
      "cell_type": "code",
      "source": [
        "#count how many times 10 appears in the list\n",
        "number = [10,20,30,40,50,60,70,10,10]\n",
        "print(number.count(10))\n"
      ],
      "metadata": {
        "colab": {
          "base_uri": "https://localhost:8080/"
        },
        "id": "ZJUwNCjJ4pyb",
        "outputId": "d5a11d50-0cc6-49d0-8eac-ed2d738242b9"
      },
      "execution_count": null,
      "outputs": [
        {
          "output_type": "stream",
          "name": "stdout",
          "text": [
            "3\n"
          ]
        }
      ]
    },
    {
      "cell_type": "code",
      "source": [
        "#reverse the list\n",
        "number = [10,20,30,40,50,60,70]\n",
        "number.reverse()\n",
        "print(number)"
      ],
      "metadata": {
        "colab": {
          "base_uri": "https://localhost:8080/"
        },
        "id": "-BdDiVbM44Ye",
        "outputId": "0b4e5f3b-2ba4-441f-8fc4-de166b860e8c"
      },
      "execution_count": null,
      "outputs": [
        {
          "output_type": "stream",
          "name": "stdout",
          "text": [
            "[70, 60, 50, 40, 30, 20, 10]\n"
          ]
        }
      ]
    },
    {
      "cell_type": "code",
      "source": [
        "#sort the list in an ascending order\n",
        "number = [10,20,30,40,50,60,70]\n",
        "number.sort()\n",
        "print(number)\n",
        "number1 = [1,2,3,4,5,6,7,8,9]\n",
        "number1.sort(reverse = True)\n",
        "print(number1)"
      ],
      "metadata": {
        "colab": {
          "base_uri": "https://localhost:8080/"
        },
        "id": "-qpyK4FL5Wyh",
        "outputId": "a217b84e-1ed4-40a3-8c5f-867085cbdd91"
      },
      "execution_count": null,
      "outputs": [
        {
          "output_type": "stream",
          "name": "stdout",
          "text": [
            "[10, 20, 30, 40, 50, 60, 70]\n",
            "[9, 8, 7, 6, 5, 4, 3, 2, 1]\n"
          ]
        }
      ]
    },
    {
      "cell_type": "code",
      "source": [
        "#find the maximum and minimum values in the list\n",
        "number = [10,20,30,40,50,60,70]\n",
        "print(max(number))\n",
        "print(min(number))"
      ],
      "metadata": {
        "colab": {
          "base_uri": "https://localhost:8080/"
        },
        "id": "ztPLFyMR5bVo",
        "outputId": "be0ce0f7-7120-4408-c7d9-0c1b64c9c66a"
      },
      "execution_count": null,
      "outputs": [
        {
          "output_type": "stream",
          "name": "stdout",
          "text": [
            "70\n",
            "10\n"
          ]
        }
      ]
    },
    {
      "cell_type": "code",
      "source": [
        "#calculate the sum of all elements in the list\n",
        "number = [10,20,30,40,50,60,70]\n",
        "print(sum(number))"
      ],
      "metadata": {
        "colab": {
          "base_uri": "https://localhost:8080/"
        },
        "id": "PDL3RKYj5hUV",
        "outputId": "7ecaae9a-4ce5-43ae-a008-a714a1c3e903"
      },
      "execution_count": null,
      "outputs": [
        {
          "output_type": "stream",
          "name": "stdout",
          "text": [
            "280\n"
          ]
        }
      ]
    },
    {
      "cell_type": "code",
      "source": [
        "#given a tuple of number and a targeted element, find and print all indexes where the targeted elelment occurs in the tuple\n",
        "number = (1,2,3,4,5,6,7,8,9,10,5,11,5)\n",
        "targeted_element = 5\n",
        "for index in range(len(number)):\n",
        "    if number[index] == targeted_element:\n",
        "        print(index)"
      ],
      "metadata": {
        "id": "dkorBwg45nsY",
        "outputId": "12ac243a-b3ff-4460-dede-0df495e020c5",
        "colab": {
          "base_uri": "https://localhost:8080/"
        }
      },
      "execution_count": null,
      "outputs": [
        {
          "output_type": "stream",
          "name": "stdout",
          "text": [
            "4\n",
            "10\n",
            "12\n"
          ]
        }
      ]
    },
    {
      "cell_type": "code",
      "source": [],
      "metadata": {
        "id": "RPeaDzWy9oKn"
      },
      "execution_count": null,
      "outputs": []
    }
  ]
}