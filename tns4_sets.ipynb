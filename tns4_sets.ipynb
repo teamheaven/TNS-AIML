{
  "nbformat": 4,
  "nbformat_minor": 0,
  "metadata": {
    "colab": {
      "provenance": []
    },
    "kernelspec": {
      "name": "python3",
      "display_name": "Python 3"
    },
    "language_info": {
      "name": "python"
    }
  },
  "cells": [
    {
      "cell_type": "markdown",
      "source": [
        "Python sets -\n",
        "\n",
        "functions -\n",
        "1. add()\n",
        "2. update\n",
        "3. remove\n",
        "4. discard\n",
        "5. pop\n",
        "6. clear\n",
        "7. intersaction\n",
        "8. difference\n",
        "9. insubset\n",
        "10. insuperset\n",
        "11. union\n"
      ],
      "metadata": {
        "id": "GFv4SbasDAI_"
      }
    },
    {
      "cell_type": "code",
      "execution_count": null,
      "metadata": {
        "colab": {
          "base_uri": "https://localhost:8080/"
        },
        "id": "iHEim_uXC8DB",
        "outputId": "f4a20429-4367-45d5-ccbe-83534f1e5421"
      },
      "outputs": [
        {
          "output_type": "stream",
          "name": "stdout",
          "text": [
            "{1, 2, 3, 4, 5}\n"
          ]
        }
      ],
      "source": [
        "#creating a set\n",
        "s = {1,2,3,4,5}\n",
        "print(s)"
      ]
    },
    {
      "cell_type": "code",
      "source": [
        "#update\n",
        "s.update([6,7,8])\n",
        "print(s)"
      ],
      "metadata": {
        "colab": {
          "base_uri": "https://localhost:8080/"
        },
        "id": "jOim4-8jDft5",
        "outputId": "dbbabe73-7f77-44cb-fbf4-b0edc4108ab9"
      },
      "execution_count": null,
      "outputs": [
        {
          "output_type": "stream",
          "name": "stdout",
          "text": [
            "{1, 2, 3, 4, 5, 6, 7, 8}\n"
          ]
        }
      ]
    },
    {
      "cell_type": "code",
      "source": [
        "#remove\n",
        "s.remove(1)\n",
        "print(s)"
      ],
      "metadata": {
        "id": "jdmauzQpG4oJ",
        "outputId": "d3614da0-df91-474a-906b-c91c8857cbbf",
        "colab": {
          "base_uri": "https://localhost:8080/"
        }
      },
      "execution_count": null,
      "outputs": [
        {
          "output_type": "stream",
          "name": "stdout",
          "text": [
            "{2, 3, 4, 5, 6, 7, 8}\n"
          ]
        }
      ]
    },
    {
      "cell_type": "code",
      "source": [
        "#discard\n",
        "s.discard(2)\n",
        "print(s)"
      ],
      "metadata": {
        "id": "J3xvBsOVG7Lv",
        "outputId": "375dadaa-3cc3-4304-a237-1adbe9cf8954",
        "colab": {
          "base_uri": "https://localhost:8080/"
        }
      },
      "execution_count": null,
      "outputs": [
        {
          "output_type": "stream",
          "name": "stdout",
          "text": [
            "{3, 4, 5, 6, 7, 8}\n"
          ]
        }
      ]
    },
    {
      "cell_type": "code",
      "source": [],
      "metadata": {
        "id": "6U4hhuBUG9Ac"
      },
      "execution_count": null,
      "outputs": []
    }
  ]
}